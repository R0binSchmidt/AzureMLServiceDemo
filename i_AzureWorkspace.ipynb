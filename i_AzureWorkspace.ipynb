{
 "cells": [
  {
   "cell_type": "markdown",
   "metadata": {},
   "source": [
    "### Create Workspace"
   ]
  },
  {
   "cell_type": "code",
   "execution_count": null,
   "metadata": {},
   "outputs": [],
   "source": [
    "import azureml.core\n",
    "from azureml.core import Workspace\n",
    "\n",
    "print(azureml.core.VERSION)\n",
    "\n",
    "from azureml.core.authentication import  InteractiveLoginAuthentication\n",
    "cli_auth = InteractiveLoginAuthentication(force=True, tenant_id=None)\n",
    "\n",
    "ws = Workspace( workspace_name = '...', \n",
    "                subscription_id = '....',\n",
    "                resource_group = '....',\n",
    "                auth=cli_auth)\n",
    "\n",
    "ws.get_details()\n",
    "ws.write_config(path='./')"
   ]
  },
  {
   "cell_type": "code",
   "execution_count": null,
   "metadata": {},
   "outputs": [],
   "source": []
  }
 ],
 "metadata": {
  "kernelspec": {
   "display_name": "Python 3",
   "language": "python",
   "name": "python3"
  },
  "language_info": {
   "codemirror_mode": {
    "name": "ipython",
    "version": 3
   },
   "file_extension": ".py",
   "mimetype": "text/x-python",
   "name": "python",
   "nbconvert_exporter": "python",
   "pygments_lexer": "ipython3",
   "version": "3.7.1"
  }
 },
 "nbformat": 4,
 "nbformat_minor": 2
}
